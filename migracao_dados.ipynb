{
 "cells": [
  {
   "cell_type": "markdown",
   "id": "61b96e58",
   "metadata": {},
   "source": [
    "## Importando Libs"
   ]
  },
  {
   "cell_type": "code",
   "execution_count": 114,
   "id": "c851af6f",
   "metadata": {},
   "outputs": [],
   "source": [
    "import pandas as pd\n",
    "import asyncio\n",
    "import aiohttp\n",
    "import json\n",
    "from tqdm import tqdm\n",
    "import re\n"
   ]
  },
  {
   "cell_type": "markdown",
   "id": "258a25b1",
   "metadata": {},
   "source": [
    "## Importando Dados"
   ]
  },
  {
   "cell_type": "code",
   "execution_count": 115,
   "id": "081da4ef",
   "metadata": {},
   "outputs": [],
   "source": [
    "df_usuario = pd.read_csv(\"./mnt/data/usuarios.csv\", delimiter=\",\")\n",
    "df_incidente = pd.read_csv(\"./mnt/data/incidentes.csv\", delimiter=\",\")\n",
    "df_ativo = pd.read_csv(\"./mnt/data/ativos_monitorados.csv\", delimiter=\",\")\n",
    "df_plataforma = pd.read_csv(\"./mnt/data/plataformas.csv\", delimiter=\",\")\n",
    "df_antivirus = pd.read_csv(\"./mnt/data/antivirus.csv\", delimiter=\",\")\n",
    "import nest_asyncio\n",
    "nest_asyncio.apply()\n"
   ]
  },
  {
   "cell_type": "markdown",
   "id": "8a33cb06",
   "metadata": {},
   "source": [
    "# Tratamento de dados"
   ]
  },
  {
   "cell_type": "markdown",
   "id": "7b36be2e",
   "metadata": {},
   "source": [
    "#### 1. Tabela Usuario"
   ]
  },
  {
   "cell_type": "code",
   "execution_count": 116,
   "id": "af5be784",
   "metadata": {},
   "outputs": [
    {
     "data": {
      "text/html": [
       "<div>\n",
       "<style scoped>\n",
       "    .dataframe tbody tr th:only-of-type {\n",
       "        vertical-align: middle;\n",
       "    }\n",
       "\n",
       "    .dataframe tbody tr th {\n",
       "        vertical-align: top;\n",
       "    }\n",
       "\n",
       "    .dataframe thead th {\n",
       "        text-align: right;\n",
       "    }\n",
       "</style>\n",
       "<table border=\"1\" class=\"dataframe\">\n",
       "  <thead>\n",
       "    <tr style=\"text-align: right;\">\n",
       "      <th></th>\n",
       "      <th>id_usuario</th>\n",
       "      <th>nome</th>\n",
       "      <th>idade</th>\n",
       "      <th>cep</th>\n",
       "      <th>data_de_nascimento</th>\n",
       "      <th>renda</th>\n",
       "    </tr>\n",
       "  </thead>\n",
       "  <tbody>\n",
       "    <tr>\n",
       "      <th>0</th>\n",
       "      <td>1</td>\n",
       "      <td>Sarah Caldeira</td>\n",
       "      <td>49</td>\n",
       "      <td>05404-010</td>\n",
       "      <td>1975-11-09</td>\n",
       "      <td>13431.34</td>\n",
       "    </tr>\n",
       "    <tr>\n",
       "      <th>1</th>\n",
       "      <td>2</td>\n",
       "      <td>Dr. Luiz Otávio Vargas</td>\n",
       "      <td>42</td>\n",
       "      <td>04105-010</td>\n",
       "      <td>1983-04-28</td>\n",
       "      <td>9792.60</td>\n",
       "    </tr>\n",
       "    <tr>\n",
       "      <th>2</th>\n",
       "      <td>3</td>\n",
       "      <td>Srta. Marcela Pereira</td>\n",
       "      <td>28</td>\n",
       "      <td>02862-120</td>\n",
       "      <td>1996-10-20</td>\n",
       "      <td>1929.75</td>\n",
       "    </tr>\n",
       "    <tr>\n",
       "      <th>3</th>\n",
       "      <td>4</td>\n",
       "      <td>Dr. Luigi Garcia</td>\n",
       "      <td>27</td>\n",
       "      <td>04836-110</td>\n",
       "      <td>1997-05-22</td>\n",
       "      <td>2267.47</td>\n",
       "    </tr>\n",
       "    <tr>\n",
       "      <th>4</th>\n",
       "      <td>5</td>\n",
       "      <td>Antonella da Mata</td>\n",
       "      <td>60</td>\n",
       "      <td>04836-110</td>\n",
       "      <td>1965-01-08</td>\n",
       "      <td>2906.67</td>\n",
       "    </tr>\n",
       "  </tbody>\n",
       "</table>\n",
       "</div>"
      ],
      "text/plain": [
       "   id_usuario                    nome  idade        cep data_de_nascimento  \\\n",
       "0           1          Sarah Caldeira     49  05404-010         1975-11-09   \n",
       "1           2  Dr. Luiz Otávio Vargas     42  04105-010         1983-04-28   \n",
       "2           3   Srta. Marcela Pereira     28  02862-120         1996-10-20   \n",
       "3           4        Dr. Luigi Garcia     27  04836-110         1997-05-22   \n",
       "4           5       Antonella da Mata     60  04836-110         1965-01-08   \n",
       "\n",
       "      renda  \n",
       "0  13431.34  \n",
       "1   9792.60  \n",
       "2   1929.75  \n",
       "3   2267.47  \n",
       "4   2906.67  "
      ]
     },
     "execution_count": 116,
     "metadata": {},
     "output_type": "execute_result"
    }
   ],
   "source": [
    "# Visualização dos 5 primeiros\n",
    "df_usuario.head()"
   ]
  },
  {
   "cell_type": "markdown",
   "id": "9af3de54",
   "metadata": {},
   "source": [
    "##### Limpeza"
   ]
  },
  {
   "cell_type": "code",
   "execution_count": 117,
   "id": "9cc49458",
   "metadata": {},
   "outputs": [
    {
     "data": {
      "text/plain": [
       "id_usuario            0\n",
       "nome                  0\n",
       "idade                 0\n",
       "cep                   0\n",
       "data_de_nascimento    0\n",
       "renda                 0\n",
       "dtype: int64"
      ]
     },
     "metadata": {},
     "output_type": "display_data"
    },
    {
     "data": {
      "text/plain": [
       "np.int64(0)"
      ]
     },
     "metadata": {},
     "output_type": "display_data"
    }
   ],
   "source": [
    "# Verificando se há dados nulos\n",
    "display(df_usuario.isnull().sum())\n",
    "\n",
    "# Verificando se há duplicatas\n",
    "display(df_usuario.duplicated().sum())"
   ]
  },
  {
   "cell_type": "markdown",
   "id": "1491b853",
   "metadata": {},
   "source": [
    "##### Obtém bairro, cidade e estado a partir do CEP"
   ]
  },
  {
   "cell_type": "code",
   "execution_count": 118,
   "id": "4a656086",
   "metadata": {},
   "outputs": [],
   "source": [
    "# # Validação de CEP (apenas números, 8 dígitos)\n",
    "# def is_cep_valido(cep):\n",
    "#     return re.fullmatch(r'\\d{8}', cep) is not None\n",
    "\n",
    "# # Função assíncrona para buscar CEP\n",
    "# async def fetch_cep(session, cep):\n",
    "#     url = f'https://viacep.com.br/ws/{cep}/json/'\n",
    "#     try:\n",
    "#         async with session.get(url) as resp:\n",
    "#             if resp.status == 200:\n",
    "#                 data = await resp.json()\n",
    "#                 if 'erro' not in data:\n",
    "#                     return cep, {\n",
    "#                         'bairro': data.get('bairro', ''),\n",
    "#                         'cidade': data.get('localidade', ''),\n",
    "#                         'estado': data.get('uf', '')\n",
    "#                     }\n",
    "#     except:\n",
    "#         pass\n",
    "#     return cep, {'bairro': '', 'cidade': '', 'estado': ''}\n",
    "\n",
    "# # Consulta em lote com barra de progresso\n",
    "# async def consultar_ceps_em_lote(ceps):\n",
    "#     cep_cache = {}\n",
    "#     async with aiohttp.ClientSession() as session:\n",
    "#         tasks = [fetch_cep(session, cep) for cep in ceps]\n",
    "#         for future in tqdm(asyncio.as_completed(tasks), total=len(tasks), desc=\"Consultando CEPs\"):\n",
    "#             cep, resultado = await future\n",
    "#             cep_cache[cep] = resultado\n",
    "#     return cep_cache\n",
    "\n",
    "# # Limpeza dos CEPs no DataFrame\n",
    "# df_usuario['cep'] = df_usuario['cep'].astype(str).str.replace('-', '', regex=False).str.strip()\n",
    "\n",
    "# # Carrega cache salvo, se existir\n",
    "# try:\n",
    "#     with open('cep_cache.json', 'r', encoding='utf-8') as f:\n",
    "#         cep_cache = json.load(f)\n",
    "# except FileNotFoundError:\n",
    "#     cep_cache = {}\n",
    "\n",
    "# # Gera lista de CEPs únicos e válidos ainda não consultados\n",
    "# ceps_unicos = df_usuario['cep'].dropna().unique()\n",
    "# ceps_validos = [cep for cep in ceps_unicos if is_cep_valido(cep)]\n",
    "# ceps_para_buscar = [cep for cep in ceps_validos if cep not in cep_cache]\n",
    "\n",
    "# # Consulta os CEPs novos e atualiza o cache\n",
    "# if ceps_para_buscar:\n",
    "#     novos_resultados = await consultar_ceps_em_lote(ceps_para_buscar)\n",
    "#     cep_cache.update(novos_resultados)\n",
    "#     with open('cep_cache.json', 'w', encoding='utf-8') as f:\n",
    "#         print(f)\n",
    "#         json.dump(cep_cache, f, ensure_ascii=False)\n",
    "\n",
    "# # Aplica os dados ao DataFrame\n",
    "# df_localizacao = df_usuario['cep'].map(cep_cache).apply(pd.Series)\n",
    "# df_usuario = df_usuario.drop(columns='cep')\n",
    "# df_usuario = pd.concat([df_usuario, df_localizacao], axis=1)\n"
   ]
  }
 ],
 "metadata": {
  "language_info": {
   "name": "python"
  }
 },
 "nbformat": 4,
 "nbformat_minor": 5
}
