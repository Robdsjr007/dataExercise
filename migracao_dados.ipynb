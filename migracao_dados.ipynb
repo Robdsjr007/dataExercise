{
 "cells": [
  {
   "cell_type": "markdown",
   "id": "61b96e58",
   "metadata": {},
   "source": [
    "## Importando Libs"
   ]
  },
  {
   "cell_type": "code",
   "execution_count": null,
   "id": "c851af6f",
   "metadata": {},
   "outputs": [],
   "source": [
    "import pandas as pd\n",
    "import requests as req\n",
    "import time"
   ]
  },
  {
   "cell_type": "markdown",
   "id": "258a25b1",
   "metadata": {},
   "source": [
    "## Importando Dados"
   ]
  },
  {
   "cell_type": "code",
   "execution_count": 3,
   "id": "081da4ef",
   "metadata": {},
   "outputs": [],
   "source": [
    "df_usuario = pd.read_csv(\"./mnt/data/usuarios.csv\", delimiter=\",\")\n",
    "df_incidente = pd.read_csv(\"./mnt/data/incidentes.csv\", delimiter=\",\")\n",
    "df_ativo = pd.read_csv(\"./mnt/data/ativos_monitorados.csv\", delimiter=\",\")\n",
    "df_plataforma = pd.read_csv(\"./mnt/data/plataformas.csv\", delimiter=\",\")\n",
    "df_antivirus = pd.read_csv(\"./mnt/data/antivirus.csv\", delimiter=\",\")\n",
    "import nest_asyncio\n",
    "nest_asyncio.apply()\n"
   ]
  },
  {
   "cell_type": "markdown",
   "id": "8a33cb06",
   "metadata": {},
   "source": [
    "# Tratamento de dados"
   ]
  },
  {
   "cell_type": "markdown",
   "id": "7b36be2e",
   "metadata": {},
   "source": [
    "#### 1. Tabela Usuario"
   ]
  },
  {
   "cell_type": "code",
   "execution_count": 4,
   "id": "af5be784",
   "metadata": {},
   "outputs": [
    {
     "data": {
      "text/html": [
       "<div>\n",
       "<style scoped>\n",
       "    .dataframe tbody tr th:only-of-type {\n",
       "        vertical-align: middle;\n",
       "    }\n",
       "\n",
       "    .dataframe tbody tr th {\n",
       "        vertical-align: top;\n",
       "    }\n",
       "\n",
       "    .dataframe thead th {\n",
       "        text-align: right;\n",
       "    }\n",
       "</style>\n",
       "<table border=\"1\" class=\"dataframe\">\n",
       "  <thead>\n",
       "    <tr style=\"text-align: right;\">\n",
       "      <th></th>\n",
       "      <th>id_usuario</th>\n",
       "      <th>nome</th>\n",
       "      <th>idade</th>\n",
       "      <th>cep</th>\n",
       "      <th>data_de_nascimento</th>\n",
       "      <th>renda</th>\n",
       "    </tr>\n",
       "  </thead>\n",
       "  <tbody>\n",
       "    <tr>\n",
       "      <th>0</th>\n",
       "      <td>1</td>\n",
       "      <td>Sarah Caldeira</td>\n",
       "      <td>49</td>\n",
       "      <td>05404-010</td>\n",
       "      <td>1975-11-09</td>\n",
       "      <td>13431.34</td>\n",
       "    </tr>\n",
       "    <tr>\n",
       "      <th>1</th>\n",
       "      <td>2</td>\n",
       "      <td>Dr. Luiz Otávio Vargas</td>\n",
       "      <td>42</td>\n",
       "      <td>04105-010</td>\n",
       "      <td>1983-04-28</td>\n",
       "      <td>9792.60</td>\n",
       "    </tr>\n",
       "    <tr>\n",
       "      <th>2</th>\n",
       "      <td>3</td>\n",
       "      <td>Srta. Marcela Pereira</td>\n",
       "      <td>28</td>\n",
       "      <td>02862-120</td>\n",
       "      <td>1996-10-20</td>\n",
       "      <td>1929.75</td>\n",
       "    </tr>\n",
       "    <tr>\n",
       "      <th>3</th>\n",
       "      <td>4</td>\n",
       "      <td>Dr. Luigi Garcia</td>\n",
       "      <td>27</td>\n",
       "      <td>04836-110</td>\n",
       "      <td>1997-05-22</td>\n",
       "      <td>2267.47</td>\n",
       "    </tr>\n",
       "    <tr>\n",
       "      <th>4</th>\n",
       "      <td>5</td>\n",
       "      <td>Antonella da Mata</td>\n",
       "      <td>60</td>\n",
       "      <td>04836-110</td>\n",
       "      <td>1965-01-08</td>\n",
       "      <td>2906.67</td>\n",
       "    </tr>\n",
       "  </tbody>\n",
       "</table>\n",
       "</div>"
      ],
      "text/plain": [
       "   id_usuario                    nome  idade        cep data_de_nascimento  \\\n",
       "0           1          Sarah Caldeira     49  05404-010         1975-11-09   \n",
       "1           2  Dr. Luiz Otávio Vargas     42  04105-010         1983-04-28   \n",
       "2           3   Srta. Marcela Pereira     28  02862-120         1996-10-20   \n",
       "3           4        Dr. Luigi Garcia     27  04836-110         1997-05-22   \n",
       "4           5       Antonella da Mata     60  04836-110         1965-01-08   \n",
       "\n",
       "      renda  \n",
       "0  13431.34  \n",
       "1   9792.60  \n",
       "2   1929.75  \n",
       "3   2267.47  \n",
       "4   2906.67  "
      ]
     },
     "execution_count": 4,
     "metadata": {},
     "output_type": "execute_result"
    }
   ],
   "source": [
    "# Visualização dos 5 primeiros\n",
    "df_usuario.head()\n",
    "\n",
    "\n"
   ]
  },
  {
   "cell_type": "markdown",
   "id": "9af3de54",
   "metadata": {},
   "source": [
    "##### Limpeza"
   ]
  },
  {
   "cell_type": "code",
   "execution_count": 5,
   "id": "9cc49458",
   "metadata": {},
   "outputs": [
    {
     "data": {
      "text/plain": [
       "id_usuario            0\n",
       "nome                  0\n",
       "idade                 0\n",
       "cep                   0\n",
       "data_de_nascimento    0\n",
       "renda                 0\n",
       "dtype: int64"
      ]
     },
     "metadata": {},
     "output_type": "display_data"
    },
    {
     "data": {
      "text/plain": [
       "np.int64(0)"
      ]
     },
     "metadata": {},
     "output_type": "display_data"
    }
   ],
   "source": [
    "# Verificando se há dados nulos\n",
    "display(df_usuario.isnull().sum())\n",
    "\n",
    "# Verificando se há duplicatas\n",
    "display(df_usuario.duplicated().sum())"
   ]
  },
  {
   "cell_type": "markdown",
   "id": "1491b853",
   "metadata": {},
   "source": [
    "##### Obtém bairro, cidade e estado a partir do CEP errado"
   ]
  },
  {
   "cell_type": "code",
   "execution_count": null,
   "id": "4a656086",
   "metadata": {},
   "outputs": [
    {
     "name": "stdout",
     "output_type": "stream",
     "text": [
      "Arquivo salvo com sucesso como: usuarios_corrigidos.csv\n"
     ]
    }
   ],
   "source": [
    "# # Listas para armazenar os resultados\n",
    "# bairros = []\n",
    "# cidades = []\n",
    "\n",
    "# df_usuario_errado = pd.read_csv('usuarios_errados.csv')\n",
    "\n",
    "# # 🔁 Itera sobre os CEPs\n",
    "# for cep in df_usuario_errado['cep']:\n",
    "#     cep_str = str(cep).replace('-', '').strip()  # limpa o CEP\n",
    "#     url = f'https://viacep.com.br/ws/{cep_str}/json/'\n",
    "    \n",
    "#     try:\n",
    "#         response = req.get(url, timeout=0.2)\n",
    "#         data = response.json()\n",
    "\n",
    "#         # Se houver erro (como CEP inválido)\n",
    "#         if 'erro' in data:\n",
    "#             bairros.append('CEP inválido')\n",
    "#             cidades.append('CEP inválido')\n",
    "#         else:\n",
    "#             bairros.append(data.get('bairro', 'N/A'))\n",
    "#             cidades.append(data.get('localidade', 'N/A'))\n",
    "#     except Exception as e:\n",
    "#         bairros.append('Erro')\n",
    "#         cidades.append('Erro')\n",
    "\n",
    "# # 🧱 Adiciona as novas colunas ao DataFrame\n",
    "# df_usuario_errado['bairro'] = bairros\n",
    "# df_usuario_errado['cidade'] = cidades\n",
    "\n",
    "# # 💾 Salva o resultado em um novo Excel\n",
    "# arquivo_saida = 'usuarios_corrigidos.csv'\n",
    "# df_usuario_errado.to_csv(arquivo_saida, index=False)\n",
    "\n",
    "# print(f'Arquivo salvo com sucesso como: {arquivo_saida}')"
   ]
  }
 ],
 "metadata": {
  "kernelspec": {
   "display_name": "env",
   "language": "python",
   "name": "python3"
  },
  "language_info": {
   "codemirror_mode": {
    "name": "ipython",
    "version": 3
   },
   "file_extension": ".py",
   "mimetype": "text/x-python",
   "name": "python",
   "nbconvert_exporter": "python",
   "pygments_lexer": "ipython3",
   "version": "3.12.10"
  }
 },
 "nbformat": 4,
 "nbformat_minor": 5
}
